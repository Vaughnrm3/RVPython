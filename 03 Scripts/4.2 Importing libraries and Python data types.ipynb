{
 "cells": [
  {
   "cell_type": "markdown",
   "id": "36c10d3a",
   "metadata": {},
   "source": [
    "# 01 Importing Libraries"
   ]
  },
  {
   "cell_type": "code",
   "execution_count": 3,
   "id": "000094cd",
   "metadata": {},
   "outputs": [],
   "source": [
    "# Import libraries\n",
    "import pandas as pd\n",
    "import numpy as np\n",
    "import os"
   ]
  },
  {
   "cell_type": "markdown",
   "id": "fe02aab2",
   "metadata": {},
   "source": [
    "# 02 Data Types\n"
   ]
  },
  {
   "cell_type": "code",
   "execution_count": 5,
   "id": "b746187f",
   "metadata": {},
   "outputs": [],
   "source": [
    "x=50"
   ]
  },
  {
   "cell_type": "code",
   "execution_count": 6,
   "id": "5271fa3e",
   "metadata": {},
   "outputs": [],
   "source": [
    "y=50"
   ]
  },
  {
   "cell_type": "code",
   "execution_count": 7,
   "id": "6dfea8c3",
   "metadata": {},
   "outputs": [],
   "source": [
    "z=(x+y)"
   ]
  },
  {
   "cell_type": "code",
   "execution_count": 9,
   "id": "50bca691",
   "metadata": {},
   "outputs": [
    {
     "name": "stdout",
     "output_type": "stream",
     "text": [
      "100\n"
     ]
    }
   ],
   "source": [
    "print(z)"
   ]
  },
  {
   "cell_type": "code",
   "execution_count": 11,
   "id": "a39f9a50",
   "metadata": {},
   "outputs": [],
   "source": [
    "x=1\n"
   ]
  },
  {
   "cell_type": "code",
   "execution_count": 12,
   "id": "8e2996e7",
   "metadata": {},
   "outputs": [],
   "source": [
    "y=99"
   ]
  },
  {
   "cell_type": "code",
   "execution_count": 13,
   "id": "3afecadb",
   "metadata": {},
   "outputs": [],
   "source": [
    "z=(x+y)"
   ]
  },
  {
   "cell_type": "code",
   "execution_count": 14,
   "id": "477feb37",
   "metadata": {},
   "outputs": [
    {
     "name": "stdout",
     "output_type": "stream",
     "text": [
      "100\n"
     ]
    }
   ],
   "source": [
    "print(z)"
   ]
  },
  {
   "cell_type": "code",
   "execution_count": 15,
   "id": "7afe11de",
   "metadata": {},
   "outputs": [],
   "source": [
    "x=90"
   ]
  },
  {
   "cell_type": "code",
   "execution_count": 16,
   "id": "b26a82f3",
   "metadata": {},
   "outputs": [],
   "source": [
    "y=10"
   ]
  },
  {
   "cell_type": "code",
   "execution_count": 17,
   "id": "7621bdf7",
   "metadata": {},
   "outputs": [],
   "source": [
    "z=(x+y)"
   ]
  },
  {
   "cell_type": "code",
   "execution_count": 18,
   "id": "8378ce00",
   "metadata": {},
   "outputs": [
    {
     "name": "stdout",
     "output_type": "stream",
     "text": [
      "100\n"
     ]
    }
   ],
   "source": [
    "print(z)"
   ]
  },
  {
   "cell_type": "code",
   "execution_count": 15,
   "id": "c2376041",
   "metadata": {},
   "outputs": [],
   "source": [
    "# Floating Point\n",
    "a=5.678\n",
    "b=5.679\n",
    "\n",
    "c=(a/b)"
   ]
  },
  {
   "cell_type": "code",
   "execution_count": 16,
   "id": "62903904",
   "metadata": {},
   "outputs": [
    {
     "data": {
      "text/plain": [
       "0.9998239126606796"
      ]
     },
     "execution_count": 16,
     "metadata": {},
     "output_type": "execute_result"
    }
   ],
   "source": [
    "c"
   ]
  },
  {
   "cell_type": "code",
   "execution_count": 18,
   "id": "4d3ef903",
   "metadata": {},
   "outputs": [],
   "source": [
    "# Strings\n",
    "d='A'\n",
    "e='N'\n",
    "f='D'\n",
    "\n",
    "g=(d+e+f)"
   ]
  },
  {
   "cell_type": "code",
   "execution_count": 19,
   "id": "59e25ea7",
   "metadata": {},
   "outputs": [
    {
     "data": {
      "text/plain": [
       "'AND'"
      ]
     },
     "execution_count": 19,
     "metadata": {},
     "output_type": "execute_result"
    }
   ],
   "source": [
    "g"
   ]
  },
  {
   "cell_type": "code",
   "execution_count": 27,
   "id": "9c558d00",
   "metadata": {},
   "outputs": [],
   "source": [
    "# Sentence 1\n",
    "h = 'Hey, '\n",
    "i = 'Whats '\n",
    "j =  'Up?'\n",
    "\n",
    "k = h + ( i + j )"
   ]
  },
  {
   "cell_type": "code",
   "execution_count": 28,
   "id": "fc8314c0",
   "metadata": {},
   "outputs": [
    {
     "data": {
      "text/plain": [
       "'Hey, Whats Up?'"
      ]
     },
     "execution_count": 28,
     "metadata": {},
     "output_type": "execute_result"
    }
   ],
   "source": [
    "k"
   ]
  },
  {
   "cell_type": "code",
   "execution_count": 29,
   "id": "5f6a4233",
   "metadata": {},
   "outputs": [],
   "source": [
    "# Sentence 2\n",
    "l = 'Hows '\n",
    "m = 'it '\n",
    "n = 'going?'\n",
    "\n",
    "o = l+m+n"
   ]
  },
  {
   "cell_type": "code",
   "execution_count": 30,
   "id": "8956ab49",
   "metadata": {},
   "outputs": [
    {
     "data": {
      "text/plain": [
       "'Hows it going?'"
      ]
     },
     "execution_count": 30,
     "metadata": {},
     "output_type": "execute_result"
    }
   ],
   "source": [
    "o"
   ]
  }
 ],
 "metadata": {
  "kernelspec": {
   "display_name": "Python 3 (ipykernel)",
   "language": "python",
   "name": "python3"
  },
  "language_info": {
   "codemirror_mode": {
    "name": "ipython",
    "version": 3
   },
   "file_extension": ".py",
   "mimetype": "text/x-python",
   "name": "python",
   "nbconvert_exporter": "python",
   "pygments_lexer": "ipython3",
   "version": "3.9.7"
  }
 },
 "nbformat": 4,
 "nbformat_minor": 5
}
